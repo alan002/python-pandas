{
  "cells": [
    {
      "cell_type": "markdown",
      "metadata": {
        "id": "OfGj30qxrIlM"
      },
      "source": [
        "# INSTALAÇÃO E IMPORTAÇÃO DA BIBLIOTECA - Descoberta guiada"
      ]
    },
    {
      "cell_type": "code",
      "execution_count": 1,
      "metadata": {
        "id": "ahucFKvyrIS2"
      },
      "outputs": [],
      "source": [
        "import pandas as pd"
      ]
    },
    {
      "cell_type": "markdown",
      "metadata": {
        "id": "KwM_k-NcrhU9"
      },
      "source": [
        "#Criando as principais estruturas - Descoberta guiada\n",
        "\n",
        "**Series**\n",
        "\n",
        "Crie uma série de dados com os valores: 10,22,48 e 54. O index deve ser 0,1,2,3 e 4.\n",
        "\n"
      ]
    },
    {
      "cell_type": "code",
      "execution_count": 2,
      "metadata": {
        "id": "M9MPhfbhsOFM",
        "colab": {
          "base_uri": "https://localhost:8080/"
        },
        "outputId": "e2882dda-b236-4c3c-a09c-db661e671b26"
      },
      "outputs": [
        {
          "output_type": "stream",
          "name": "stdout",
          "text": [
            "0    10\n",
            "1    22\n",
            "2    48\n",
            "3    54\n",
            "dtype: int64\n"
          ]
        }
      ],
      "source": [
        "import pandas as pd\n",
        "\n",
        "s = pd.Series([10, 22, 48, 54], index=[0, 1, 2, 3])\n",
        "print(s)"
      ]
    },
    {
      "cell_type": "markdown",
      "metadata": {
        "id": "W3YWqD_GsHu9"
      },
      "source": [
        "**Dataframe**\n",
        "\n",
        "Crie o seguinte dataframe:\n",
        "\n",
        "![image.png](data:image/png;base64,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)\n"
      ]
    },
    {
      "cell_type": "code",
      "execution_count": null,
      "metadata": {
        "id": "H-Wo6YhisTUg"
      },
      "outputs": [],
      "source": [
        "import pandas as pd\n",
        "\n",
        "data = {\n",
        "    \"prova_1\": [6, 7, 8, 8, 9, 3, 6],\n",
        "    \"prova_2\": [7, 8, 5, 7, 10, 8, 7],\n",
        "    \"nome\": [\"Ana\", \"Pedro\", \"João\", \"Carla\", \"Silvio\", \"Teresa\", \"Claudia\"],\n",
        "    \"turma\": [\"A\", \"A\", \"B\", \"B\", \"A\", \"B\", \"B\"]\n",
        "}\n",
        "\n",
        "df = pd.DataFrame(data)\n",
        "print(df)\n",
        "\n"
      ]
    },
    {
      "cell_type": "markdown",
      "source": [
        "#Criando as principais estruturas - Hands on"
      ],
      "metadata": {
        "id": "RiWv0sIif335"
      }
    },
    {
      "cell_type": "markdown",
      "source": [
        "Ao rodar o código abaixo, qual erro será retornado pelo python?\n",
        "\n",
        "import pandas as pd\n",
        "serie_1 = pd.Serie(data=[10,22,23,48,54], index=[1,1,2,3,4])\n",
        "print(serie_1)\n",
        "\n",
        "a) Length of passed values is 5, index implies 6\n",
        "\n",
        "b) Invalid index passed value\n",
        "\n",
        "c) module 'pandas' has no attribute 'Serie\n",
        "\n",
        "d) name 'pds' is not defined"
      ],
      "metadata": {
        "id": "AhnQHjFgh5_U"
      }
    },
    {
      "cell_type": "code",
      "source": [
        "import pandas as pd\n",
        "serie_1 = pd.Serie(data=[10,22,23,48,54], index=[1,1,2,3,4])\n",
        "print(serie_1)"
      ],
      "metadata": {
        "id": "3v2eqiVdh8Tv"
      },
      "execution_count": null,
      "outputs": []
    },
    {
      "cell_type": "markdown",
      "source": [
        "Crie a estrutura de dataframe abaixo, considerando o próprio campo \"Tipo sanguíneo\" como index:\n",
        "\n",
        "\n",
        "![image.png](data:image/png;base64,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)"
      ],
      "metadata": {
        "id": "S0auFTIVf9J0"
      }
    },
    {
      "cell_type": "code",
      "source": [
        "import pandas as pd\n",
        "\n",
        "tipos_sanguineos = [\"A+\", \"A-\", \"B+\", \"B-\", \"AB+\", \"AB-\", \"O+\", \"O-\"]\n",
        "\n",
        "# Criar DataFrame com uma coluna vazia (ou útil, se necessário)\n",
        "df = pd.DataFrame(index=tipos_sanguineos)\n",
        "df.index.name = \"Tipo sanguíneo\"  # Nomear o índice\n",
        "\n",
        "print(df)"
      ],
      "metadata": {
        "id": "IqImZB83wChk"
      },
      "execution_count": null,
      "outputs": []
    },
    {
      "cell_type": "markdown",
      "metadata": {
        "id": "stNKuhP8shT0"
      },
      "source": [
        "No dataframe de prova criado anteriormente, selecione agora a coluna nome como índice e imprima na tela o dataframe."
      ]
    },
    {
      "cell_type": "code",
      "execution_count": null,
      "metadata": {
        "id": "HS6NxwqZstao"
      },
      "outputs": [],
      "source": [
        "import pandas as pd\n",
        "\n",
        "# Criar o DataFrame original\n",
        "data = {\n",
        "    \"prova_1\": [6, 7, 8, 8, 9, 3, 6],\n",
        "    \"prova_2\": [7, 8, 5, 7, 10, 8, 7],\n",
        "    \"nome\": [\"Ana\", \"Pedro\", \"João\", \"Carla\", \"Silvio\", \"Teresa\", \"Claudia\"],\n",
        "    \"turma\": [\"A\", \"A\", \"B\", \"B\", \"A\", \"B\", \"B\"]\n",
        "}\n",
        "\n",
        "df = pd.DataFrame(data)\n",
        "\n",
        "# Definir a coluna \"nome\" como índice\n",
        "df_com_indice_nome = df.set_index(\"nome\")\n",
        "\n",
        "# Imprimir o DataFrame resultante\n",
        "print(df_com_indice_nome)"
      ]
    },
    {
      "cell_type": "markdown",
      "source": [
        "Reset o index da prova, voltando a ter um índice numérico auto incrementável"
      ],
      "metadata": {
        "id": "LmkZqd-elgYj"
      }
    },
    {
      "cell_type": "code",
      "source": [
        "import pandas as pd\n",
        "\n",
        "# Criar o DataFrame original (caso não esteja carregado)\n",
        "data = {\n",
        "    \"prova_1\": [6, 7, 8, 8, 9, 3, 6],\n",
        "    \"prova_2\": [7, 8, 5, 7, 10, 8, 7],\n",
        "    \"nome\": [\"Ana\", \"Pedro\", \"João\", \"Carla\", \"Silvio\", \"Teresa\", \"Claudia\"],\n",
        "    \"turma\": [\"A\", \"A\", \"B\", \"B\", \"A\", \"B\", \"B\"]\n",
        "}\n",
        "\n",
        "df = pd.DataFrame(data)\n",
        "\n",
        "# Definir \"nome\" como índice (exemplo do passo anterior)\n",
        "df_com_indice_nome = df.set_index(\"nome\")\n",
        "\n",
        "# Resetar o índice para voltar ao numérico padrão\n",
        "df_resetado = df_com_indice_nome.reset_index()\n",
        "\n",
        "# Imprimir o resultado\n",
        "print(df_resetado)"
      ],
      "metadata": {
        "id": "IT7GyMNallw8"
      },
      "execution_count": null,
      "outputs": []
    },
    {
      "cell_type": "markdown",
      "source": [
        "#Importando dados - Descoberta guiada\n",
        "\n",
        "Vamos abrir o csv especificado abaixo.\n",
        "\n",
        "https://raw.githubusercontent.com/brunamulinari/BasicPythonProjects/main/Base_ficticia/baseficticia.csv\n",
        "\n"
      ],
      "metadata": {
        "id": "tVLio93FeZAU"
      }
    },
    {
      "cell_type": "markdown",
      "source": [
        "#Importando dados - Hands on"
      ],
      "metadata": {
        "id": "FVSEnn9djajP"
      }
    },
    {
      "cell_type": "markdown",
      "source": [
        "Importe a base de dados do titanic em csv no endereço abaixo e imprima as 5 primeiras linhas:\n",
        "\n",
        "https://www.harve.com.br/praticas/titanic-pt-BR.csv"
      ],
      "metadata": {
        "id": "U_ZeWz-rjdpv"
      }
    },
    {
      "cell_type": "code",
      "source": [
        "import pandas as pd\n",
        "\n",
        "# URL do arquivo CSV\n",
        "url = \"https://www.harve.com.br/praticas/titanic-pt-BR.csv\"\n",
        "\n",
        "# Carregar os dados em um DataFrame\n",
        "titanic = pd.read_csv(url, encoding='utf-8')  # ou encoding='latin-1' se houver problemas com acentos\n",
        "\n",
        "# Imprimir as 5 primeiras linhas\n",
        "print(titanic.head())"
      ],
      "metadata": {
        "id": "bRmmBWsRedy-",
        "colab": {
          "base_uri": "https://localhost:8080/"
        },
        "outputId": "65189adb-42c7-4a7f-e4cf-794ac83d2c91"
      },
      "execution_count": 3,
      "outputs": [
        {
          "output_type": "stream",
          "name": "stdout",
          "text": [
            "   Id do passageiro  Sobrevivente  Classe  \\\n",
            "0                 1             0       3   \n",
            "1                 2             1       1   \n",
            "2                 3             1       3   \n",
            "3                 4             1       1   \n",
            "4                 5             0       3   \n",
            "\n",
            "                                                Nome       Sexo  Idade  \\\n",
            "0                            Braund, Mr. Owen Harris  masculino   22.0   \n",
            "1  Cumings, Mrs. John Bradley (Florence Briggs Th...   feminino   38.0   \n",
            "2                             Heikkinen, Miss. Laina   feminino   26.0   \n",
            "3       Futrelle, Mrs. Jacques Heath (Lily May Peel)   feminino   35.0   \n",
            "4                           Allen, Mr. William Henry  masculino   35.0   \n",
            "\n",
            "   Irmaos ou conjuge  Pais ou filhos            Ticket Tarifa do passageiro  \\\n",
            "0                  1               0         A/5 21171                 7.25   \n",
            "1                  1               0          PC 17599              712.833   \n",
            "2                  0               0  STON/O2. 3101282                7.925   \n",
            "3                  1               0            113803                 53.1   \n",
            "4                  0               0            373450                08.05   \n",
            "\n",
            "  Cabine Local de embarque  \n",
            "0    NaN       Southampton  \n",
            "1    C85         Cherbourg  \n",
            "2    NaN       Southampton  \n",
            "3   C123       Southampton  \n",
            "4    NaN       Southampton  \n"
          ]
        }
      ]
    },
    {
      "cell_type": "markdown",
      "metadata": {
        "id": "8CAUwx4iuqS0"
      },
      "source": [
        "#Inserindo item - Descoberta guiada\n"
      ]
    },
    {
      "cell_type": "markdown",
      "metadata": {
        "id": "o6Cc7nmuv1EG"
      },
      "source": [
        "Exercício: O código abaixo para adicionar a linha no dataframe inserindo um novo passageiro retornou um erro. Qual foi o motivo do erro? Após identidicar, corrija e insira esse novo passageiro.\n",
        "\n",
        "df = df.append({'Id do passageiro': 892, 'Sobrevivente': 0,'Classe': 1, 'Nome': 'Cristiane','Sexo': 'feminino', 'Irmaos ou conjuge': 1, 'Pais ou filhos': 1, 'Local de embarque': 'Cherbourg', 'Ticket': '121A', 'Tarifa do passageiro': 8000, 'Cabine': C85},ignore_index=True)\n",
        "\n",
        "Dados: \"https://www.harve.com.br/praticas/titanic-pt-BR.csv\"\n"
      ]
    },
    {
      "cell_type": "code",
      "source": [
        "import pandas as pd\n",
        "\n",
        "# Carregar os dados originais\n",
        "url = \"https://www.harve.com.br/praticas/titanic-pt-BR.csv\"\n",
        "df = pd.read_csv(url, encoding='utf-8')\n",
        "\n",
        "# Verificar os nomes reais das colunas\n",
        "print(df.columns.tolist())\n",
        "\n",
        "# Adicionar o novo passageiro corretamente\n",
        "novo_passageiro = {\n",
        "    'Id do passageiro': 892,\n",
        "    'Sobrevivente': 0,\n",
        "    'Classe do ticket': 1,  # Note a correção no nome da coluna\n",
        "    'Nome': 'Cristiane',\n",
        "    'Sexo': 'feminino',\n",
        "    'Nº de irmãos/conjuge': 1,  # Nome corrigido\n",
        "    'Nº de pais/filhos': 1,     # Nome corrigido\n",
        "    'Local de embarque': 'Cherbourg',\n",
        "    'Ticket': '121A',\n",
        "    'Tarifa do passageiro': 8000,\n",
        "    'Cabine': 'C85'  # Aspas adicionadas\n",
        "}\n",
        "\n",
        "# Adicionar ao DataFrame (usando loc para versões mais recentes do pandas)\n",
        "df = pd.concat([df, pd.DataFrame([novo_passageiro])], ignore_index=True)\n",
        "\n",
        "# Verificar a última linha\n",
        "print(df.tail(1))"
      ],
      "metadata": {
        "id": "TR2fMKsXHXjn"
      },
      "execution_count": null,
      "outputs": []
    },
    {
      "cell_type": "markdown",
      "source": [
        "#Inserindo item - Hands on"
      ],
      "metadata": {
        "id": "77m6_iDcnAZp"
      }
    },
    {
      "cell_type": "markdown",
      "source": [
        "Adicione no dataframe da prova a seguinte linha: Nome:Cristiane, Turma:A,prova 1:5 e prova 2:7"
      ],
      "metadata": {
        "id": "QBhxUiNQlS8l"
      }
    },
    {
      "cell_type": "code",
      "execution_count": null,
      "metadata": {
        "id": "Yplu_lyFu13h"
      },
      "outputs": [],
      "source": [
        "import pandas as pd\n",
        "\n",
        "# DataFrame original das provas\n",
        "data = {\n",
        "    \"prova_1\": [6, 7, 8, 8, 9, 3, 6],\n",
        "    \"prova_2\": [7, 8, 5, 7, 10, 8, 7],\n",
        "    \"nome\": [\"Ana\", \"Pedro\", \"João\", \"Carla\", \"Silvio\", \"Teresa\", \"Claudia\"],\n",
        "    \"turma\": [\"A\", \"A\", \"B\", \"B\", \"A\", \"B\", \"B\"]\n",
        "}\n",
        "df = pd.DataFrame(data)\n",
        "\n",
        "# Dados da Cristiane\n",
        "nova_linha = {\n",
        "    'nome': 'Cristiane',\n",
        "    'turma': 'A',\n",
        "    'prova_1': 5,\n",
        "    'prova_2': 7\n",
        "}\n",
        "\n",
        "# Adicionando usando loc (melhor para adicionar uma única linha)\n",
        "df.loc[len(df)] = nova_linha  # len(df) obtém o próximo índice disponível\n",
        "\n",
        "# Alternativa usando concat (ideal para adicionar múltiplas linhas)\n",
        "# df = pd.concat([df, pd.DataFrame([nova_linha])], ignore_index=True)\n",
        "\n",
        "print(df)"
      ]
    },
    {
      "cell_type": "markdown",
      "metadata": {
        "id": "BwB4dTX-wbnv"
      },
      "source": [
        "#Inspeção do conjunto - Descoberta guiada"
      ]
    },
    {
      "cell_type": "markdown",
      "source": [
        "Analise a quantidade total de linhas e colunas da tabela do titanic"
      ],
      "metadata": {
        "id": "ZFTxDlWln6s3"
      }
    },
    {
      "cell_type": "code",
      "source": [
        "import pandas as pd\n",
        "\n",
        "# Carregar os dados\n",
        "url = \"https://www.harve.com.br/praticas/titanic-pt-BR.csv\"\n",
        "titanic = pd.read_csv(url, encoding='utf-8')\n",
        "\n",
        "# Obter linhas e colunas\n",
        "linhas, colunas = titanic.shape\n",
        "\n",
        "print(f\"O DataFrame do Titanic possui:\")\n",
        "print(f\"- Total de linhas (passageiros): {linhas}\")\n",
        "print(f\"- Total de colunas (variáveis): {colunas}\")\n",
        "\n",
        "#Método 2: Usando len() e columns\n",
        "print(f\"\\nAnálise alternativa:\")\n",
        "print(f\"- Total de linhas: {len(titanic)}\")\n",
        "print(f\"- Total de colunas: {len(titanic.columns)}\")\n",
        "print(f\"\\nNomes das colunas: {list(titanic.columns)}\")"
      ],
      "metadata": {
        "id": "Bxra41SFn7QJ"
      },
      "execution_count": null,
      "outputs": []
    },
    {
      "cell_type": "markdown",
      "source": [
        "#Inspeção do conjunto - Hands on"
      ],
      "metadata": {
        "id": "6XfBvzSBoG01"
      }
    },
    {
      "cell_type": "markdown",
      "source": [
        "Faça um código que imprima \"Dataframe grande\" caso ele tenha mais que 15 colunas e \"Dataframe pequeno\" caso seja menor ou igual."
      ],
      "metadata": {
        "id": "FltPqOYXoLp6"
      }
    },
    {
      "cell_type": "code",
      "execution_count": null,
      "metadata": {
        "id": "ti6UBfkuwsy-"
      },
      "outputs": [],
      "source": [
        "def classificar_dataframe(df):\n",
        "    if len(df.columns) > 15:\n",
        "        return \"Dataframe grande\"\n",
        "    return \"Dataframe pequeno\"\n",
        "\n",
        "print(classificar_dataframe(titanic))"
      ]
    },
    {
      "cell_type": "markdown",
      "source": [
        "Consulte os nomes das colunas que temos no dataframe."
      ],
      "metadata": {
        "id": "V_ngqQQXoYKT"
      }
    },
    {
      "cell_type": "code",
      "execution_count": null,
      "metadata": {
        "id": "Z4mzV6-ew5Un"
      },
      "outputs": [],
      "source": [
        "print(titanic.columns.tolist())"
      ]
    },
    {
      "cell_type": "markdown",
      "metadata": {
        "id": "ANKgQMREw0-p"
      },
      "source": [
        "Modifique o nome da coluna \"Id do passageiro\" para \"Id_passageiro\""
      ]
    },
    {
      "cell_type": "code",
      "execution_count": null,
      "metadata": {
        "id": "tqVWjVb5w_uz"
      },
      "outputs": [],
      "source": [
        "titanic = titanic.rename(columns={\"Id do passageiro\": \"Id_passageiro\"})\n",
        "print(titanic.columns.tolist())"
      ]
    },
    {
      "cell_type": "markdown",
      "metadata": {
        "id": "FGiMEbDSx7C0"
      },
      "source": [
        "#Inspeção da coluna - Descoberta guiada\n"
      ]
    },
    {
      "cell_type": "markdown",
      "source": [
        "Quais são os tipos de dados das colunas do dataframe do titanic?"
      ],
      "metadata": {
        "id": "K_o_QHPwTkS_"
      }
    },
    {
      "cell_type": "code",
      "execution_count": null,
      "metadata": {
        "id": "TuNMS-CmyDYL"
      },
      "outputs": [],
      "source": [
        "print(titanic.dtypes)"
      ]
    },
    {
      "cell_type": "markdown",
      "source": [
        "#Inspeção da coluna - Hands on"
      ],
      "metadata": {
        "id": "g8lbEDigTq5p"
      }
    },
    {
      "cell_type": "markdown",
      "source": [
        "Precisamos saber o tipo de dados da coluna tarifa do Tarifa do passageiro para realizar a soma das passagens. Mas para isso precisamos saber qual é o tipo de dado dessa coluna. Qual é o tipo de dado correto?\n",
        "\n",
        "a) int64\n",
        "\n",
        "b) int\n",
        "\n",
        "c) object\n",
        "\n",
        "d) float64"
      ],
      "metadata": {
        "id": "kNoyTnRlUCBU"
      }
    },
    {
      "cell_type": "code",
      "source": [
        "print(titanic.dtypes)"
      ],
      "metadata": {
        "id": "UEY0TfpXUCfH"
      },
      "execution_count": null,
      "outputs": []
    },
    {
      "cell_type": "markdown",
      "metadata": {
        "id": "KAPvHozyyCTu"
      },
      "source": [
        "Quais colunas permitem e quais não permitem valores nulos?\n"
      ]
    },
    {
      "cell_type": "code",
      "execution_count": null,
      "metadata": {
        "id": "fq0_cxrfyGWY"
      },
      "outputs": [],
      "source": [
        "print(titanic.isnull().sum())"
      ]
    },
    {
      "cell_type": "markdown",
      "metadata": {
        "id": "cM_0p34wyVgG"
      },
      "source": [
        "#Inspeção de conteúdo - Descoberta guiada"
      ]
    },
    {
      "cell_type": "markdown",
      "metadata": {
        "id": "7uBPYEj-w1tH"
      },
      "source": [
        "\n",
        "Qual foi a média de idade dos passageiros do titanic? Qual foi o passageiro mais velho?\n",
        "\n",
        "\n"
      ]
    },
    {
      "cell_type": "code",
      "execution_count": null,
      "metadata": {
        "id": "qTpo1bibxHWt"
      },
      "outputs": [],
      "source": [
        "#Calculando a idade média\n",
        "average_age = titanic['Idade'].mean()\n",
        "print(f\"A média de idade dos passageiros do Titanic foi: {average_age:.2f} anos\")\n",
        "\n",
        "#Encontrando a idade do passageiro mais velho\n",
        "oldest_age = titanic['Idade'].max()\n",
        "print(f\"A idade do passageiro mais velho no Titanic foi: {oldest_age} anos\")\n",
        "\n",
        "# encontrando as linhas dos passageiros mais velhos\n",
        "oldest_passengers = titanic[titanic['Idade'] == oldest_age]\n",
        "print(\"\\nInformações sobre o(s) passageiro(s) mais velho(s):\")\n",
        "display(oldest_passengers)"
      ]
    },
    {
      "cell_type": "markdown",
      "source": [
        "#Inspeção de conteúdo - Hands on"
      ],
      "metadata": {
        "id": "OhnJP9KDVy8O"
      }
    },
    {
      "cell_type": "markdown",
      "source": [
        "Quantas linhas tem o dataframe do titanic usando a função len?"
      ],
      "metadata": {
        "id": "2uR-okb3V3MR"
      }
    },
    {
      "cell_type": "code",
      "execution_count": null,
      "metadata": {
        "id": "w6yxeDA03a22"
      },
      "outputs": [],
      "source": [
        "print(len(titanic))"
      ]
    },
    {
      "cell_type": "markdown",
      "metadata": {
        "id": "YKgmwYZx5308"
      },
      "source": [
        "Quais são as classes que foram utilizadas pelos passageiros do titanic e quantas pessoas usaram cada uma delas?"
      ]
    },
    {
      "cell_type": "code",
      "execution_count": null,
      "metadata": {
        "id": "OAwzOB_O53Kz"
      },
      "outputs": [],
      "source": [
        "class_counts = titanic['Classe'].value_counts()\n",
        "print(\"Contagem de passageiros por classe:\")\n",
        "print(class_counts)"
      ]
    },
    {
      "cell_type": "markdown",
      "metadata": {
        "id": "URTBWU_cy4WF"
      },
      "source": [
        "#Atribuição de dados - Descoberta guiada\n"
      ]
    },
    {
      "cell_type": "markdown",
      "source": [
        "Selecione apenas as notas da coluna prova_1"
      ],
      "metadata": {
        "id": "GnLd-p0zYc-6"
      }
    },
    {
      "cell_type": "code",
      "execution_count": null,
      "metadata": {
        "id": "pvHJXW-bzTkj"
      },
      "outputs": [],
      "source": [
        "# Supondo que 'df' seja seu dataframe com dados de alunos\n",
        "# Caso contrário, carregue-o ou crie-o primeiro.\n",
        "\n",
        "prova1_notes = df['prova_1']\n",
        "print(prova1_notes)"
      ]
    },
    {
      "cell_type": "markdown",
      "source": [
        "#Atribuição de dados - Hands on"
      ],
      "metadata": {
        "id": "nX6Ix1qgYnfF"
      }
    },
    {
      "cell_type": "markdown",
      "metadata": {
        "id": "da3gzWaFzflS"
      },
      "source": [
        "Qual foi a nota do aluno de índice 2 na prova 1\n"
      ]
    },
    {
      "cell_type": "code",
      "execution_count": null,
      "metadata": {
        "id": "R7exdNEhzjTo"
      },
      "outputs": [],
      "source": [
        "# Supondo que 'df' seja seu dataframe com dados de alunos\n",
        "# Caso contrário, carregue-o ou crie-o primeiro.\n",
        "\n",
        "nota_aluno_indice_2_prova_1 = df.loc[2, 'prova_1']\n",
        "# Ou use iloc se tiver certeza sobre o índice posicional\n",
        "# nota_aluno_indice_2_prova_1 = df.iloc[2, df.columns.get_loc('prova_1')]\n",
        "\n",
        "print(f\"A nota do aluno de índice 2 na prova 1 foi: {nota_aluno_indice_2_prova_1}\")"
      ]
    },
    {
      "cell_type": "markdown",
      "source": [
        "Qual foi a nota da prova_1 da Ana?"
      ],
      "metadata": {
        "id": "DEpTXl9NY2aT"
      }
    },
    {
      "cell_type": "code",
      "execution_count": null,
      "metadata": {
        "id": "zYeuGw9Mz7Ak"
      },
      "outputs": [],
      "source": [
        "# Supondo que 'df' seja seu dataframe com dados de alunos\n",
        "# Caso contrário, carregue-o ou crie-o primeiro.\n",
        "\n",
        "ana_prova1_note = df[df['nome'] == 'Ana']['prova_1'].iloc[0]\n",
        "print(f\"A nota da Ana na prova 1 foi: {ana_prova1_note}\")"
      ]
    },
    {
      "cell_type": "markdown",
      "metadata": {
        "id": "MJjHy5KSzymL"
      },
      "source": [
        "Mude a nota da Ana na prova 1. A nota nova foi 8.\n"
      ]
    },
    {
      "cell_type": "code",
      "execution_count": null,
      "metadata": {
        "id": "BfIlQcRF0JPW"
      },
      "outputs": [],
      "source": [
        "# Supondo que 'df' seja seu dataframe com dados de alunos\n",
        "# Caso contrário, carregue-o ou crie-o primeiro.\n",
        "\n",
        "df.loc[df['nome'] == 'Ana', 'prova_1'] = 8\n",
        "print(df[df['nome'] == 'Ana'])"
      ]
    },
    {
      "cell_type": "markdown",
      "metadata": {
        "id": "vGxIK2ud0Smg"
      },
      "source": [
        "Mude a nota do silvio na prova 1 para 10 usando o loc\n"
      ]
    },
    {
      "cell_type": "code",
      "execution_count": null,
      "metadata": {
        "id": "W_rmcjyY0VJN"
      },
      "outputs": [],
      "source": [
        "df.loc[df['nome'] == 'Silvio', 'prova_1'] = 10\n",
        "print(df[df['nome'] == 'Silvio'])"
      ]
    },
    {
      "cell_type": "markdown",
      "metadata": {
        "id": "e1JIYfOq0oKl"
      },
      "source": [
        "Selecione as notas 1 da Carla, Silvio e Teresa usando o loc"
      ]
    },
    {
      "cell_type": "code",
      "execution_count": null,
      "metadata": {
        "id": "NtSKl3dA0pL1"
      },
      "outputs": [],
      "source": [
        "print(df.loc[df['nome'].isin(['Carla', 'Silvio', 'Teresa']), 'prova_1'])"
      ]
    },
    {
      "cell_type": "markdown",
      "metadata": {
        "id": "BamWuEa00yZH"
      },
      "source": [
        "Selecione as notas da Carla até a Teresa usando o loc.\n"
      ]
    },
    {
      "cell_type": "code",
      "execution_count": null,
      "metadata": {
        "id": "mWbD9-QYzyKm"
      },
      "outputs": [],
      "source": [
        "print(df.loc[3:5, ['prova_1', 'prova_2']])\n"
      ]
    },
    {
      "cell_type": "markdown",
      "source": [
        "Crie uma coluna chamada média das notas onde o resultado dela é a soma da prova 1 e a prova 2"
      ],
      "metadata": {
        "id": "9KiEiH4oUvdg"
      }
    },
    {
      "cell_type": "code",
      "source": [
        "df['média das notas'] = df['prova_1'] + df['prova_2']\n",
        "df"
      ],
      "metadata": {
        "id": "fzqa49kSOPgW"
      },
      "execution_count": null,
      "outputs": []
    },
    {
      "cell_type": "markdown",
      "source": [
        "#Filtros - Descoberta guiada"
      ],
      "metadata": {
        "id": "C_fQa70HN2gL"
      }
    },
    {
      "cell_type": "markdown",
      "source": [
        "Selecione somente os alunos da turma A"
      ],
      "metadata": {
        "id": "yO90bjnHONWX"
      }
    },
    {
      "cell_type": "code",
      "source": [
        "print(df[df['turma'] == 'A'])"
      ],
      "metadata": {
        "id": "TLEkyM1ZN4jZ"
      },
      "execution_count": null,
      "outputs": []
    },
    {
      "cell_type": "markdown",
      "source": [
        "#Filtros - Hands on"
      ],
      "metadata": {
        "id": "FOlKgWP_OQMy"
      }
    },
    {
      "cell_type": "markdown",
      "source": [
        "Selecione somente os alunos da turma B"
      ],
      "metadata": {
        "id": "_e8gTWUCOVCx"
      }
    },
    {
      "cell_type": "code",
      "source": [
        "print(df[df['turma'] == 'B'])"
      ],
      "metadata": {
        "id": "xtBpd1_zOR8F"
      },
      "execution_count": null,
      "outputs": []
    },
    {
      "cell_type": "markdown",
      "source": [
        "Verifique a porentagem de passageiros que sobreviveram no Titanic"
      ],
      "metadata": {
        "id": "sCtki7cUObtA"
      }
    },
    {
      "cell_type": "code",
      "execution_count": null,
      "metadata": {
        "id": "YRJteGnz3BhJ"
      },
      "outputs": [],
      "source": [
        "# Carregar os dados (certifique-se de que o DataFrame 'titanic' está carregado)\n",
        "url = \"https://www.harve.com.br/praticas/titanic-pt-BR.csv\"\n",
        "titanic = pd.read_csv(url, encoding='utf-8')\n",
        "\n",
        "# Calcular o total de passageiros\n",
        "total_passageiros = len(titanic)\n",
        "\n",
        "# Calcular o número de sobreviventes (considerando 'Sobrevivente' = 1)\n",
        "sobreviventes = titanic['Sobrevivente'].sum()\n",
        "\n",
        "# Calcular a porcentagem de sobreviventes\n",
        "porcentagem_sobreviventes = (sobreviventes / total_passageiros) * 100\n",
        "\n",
        "print(f\"Total de passageiros: {total_passageiros}\")\n",
        "print(f\"Total de sobreviventes: {sobreviventes}\")\n",
        "print(f\"Porcentagem de passageiros que sobreviveram: {porcentagem_sobreviventes:.2f}%\")"
      ]
    },
    {
      "cell_type": "markdown",
      "source": [
        "#Filtros utilizando and e or - Descoberta guiada"
      ],
      "metadata": {
        "id": "U6jZsHcGPsCB"
      }
    },
    {
      "cell_type": "markdown",
      "source": [
        "Quantos alunos da turma B tiraram nota maior ou igual a oito?"
      ],
      "metadata": {
        "id": "l4Zq_-O5SPbM"
      }
    },
    {
      "cell_type": "code",
      "source": [
        "# Filtrar alunos da turma B\n",
        "turma_b_df = df[df['turma'] == 'B']\n",
        "\n",
        "# Filtrar alunos da turma B com nota >= 8 em prova_1 OU prova_2\n",
        "alunos_turma_b_nota_alta = turma_b_df[(turma_b_df['prova_1'] >= 8) | (turma_b_df['prova_2'] >= 8)]\n",
        "\n",
        "# Contar quantos alunos atendem ao critério\n",
        "quantidade_alunos = len(alunos_turma_b_nota_alta)\n",
        "\n",
        "print(f\"Quantidade de alunos da turma B que tiraram nota maior ou igual a oito (em pelo menos uma prova): {quantidade_alunos}\")\n",
        "\n",
        "# Para saber quais alunos são, você pode imprimir o DataFrame filtrado:\n",
        "# print(\"\\nAlunos da turma B com nota maior ou igual a oito:\")\n",
        "# print(alunos_turma_b_nota_alta)\n",
        "\n",
        "# Se a pergunta for quantos tiraram >= 8 em *ambas* as provas:\n",
        "# alunos_turma_b_ambas_notas_altas = turma_b_df[(turma_b_df['prova_1'] >= 8) & (turma_b_df['prova_2'] >= 8)]\n",
        "# print(f\"Quantidade de alunos da turma B que tiraram nota maior ou igual a oito (em ambas as provas): {len(alunos_turma_b_ambas_notas_altas)}\")\n",
        "# print(\"\\nAlunos da turma B com nota maior ou igual a oito (em ambas as provas):\")\n",
        "# print(alunos_turma_b_ambas_notas_altas)"
      ],
      "metadata": {
        "id": "U83p-aV3SQCE"
      },
      "execution_count": null,
      "outputs": []
    },
    {
      "cell_type": "markdown",
      "source": [
        "#Filtros utilizando and e or - Hands on"
      ],
      "metadata": {
        "id": "SUIjXwT0SIvA"
      }
    },
    {
      "cell_type": "markdown",
      "source": [
        "Quantos homens tinham no titanic e quantos sobreviveram?"
      ],
      "metadata": {
        "id": "mVp7KCtCPxZB"
      }
    },
    {
      "cell_type": "code",
      "source": [
        "# Filtrar apenas os passageiros do sexo masculino\n",
        "homens_titanic = titanic[titanic['Sexo'] == 'masculino']\n",
        "\n",
        "# Contar o total de homens\n",
        "total_homens = len(homens_titanic)\n",
        "\n",
        "# Filtrar os homens que sobreviveram ('Sobrevivente' == 1)\n",
        "homens_sobreviventes = homens_titanic[homens_titanic['Sobrevivente'] == 1]\n",
        "\n",
        "# Contar o total de homens sobreviventes\n",
        "total_homens_sobreviventes = len(homens_sobreviventes)\n",
        "\n",
        "print(f\"Total de homens no Titanic: {total_homens}\")\n",
        "print(f\"Total de homens que sobreviveram: {total_homens_sobreviventes}\")"
      ],
      "metadata": {
        "id": "xSlRGUy0Pwaj"
      },
      "execution_count": null,
      "outputs": []
    },
    {
      "cell_type": "markdown",
      "source": [
        "Quantas pessoas tinham mais de 40 anos e tinham filhos?"
      ],
      "metadata": {
        "id": "je8Jy0QyQrSi"
      }
    },
    {
      "cell_type": "code",
      "source": [
        "# Filtrar pessoas com mais de 40 anos E com pelo menos 1 filho ('Nº de pais/filhos' > 0)\n",
        "pessoas_mais_de_40_com_filhos = titanic[(titanic['Idade'] > 40) & (titanic['Nº de pais/filhos'] > 0)]\n",
        "\n",
        "# Contar quantas pessoas atendem a esse critério\n",
        "quantidade_pessoas = len(pessoas_mais_de_40_com_filhos)\n",
        "\n",
        "print(f\"Quantidade de pessoas com mais de 40 anos e que tinham filhos: {quantidade_pessoas}\")\n",
        "\n",
        "# Para ver quem são essas pessoas (opcional):\n",
        "# print(\"\\nPessoas com mais de 40 anos e que tinham filhos:\")\n",
        "# display(pessoas_mais_de_40_com_filhos)"
      ],
      "metadata": {
        "id": "u5wKvwAHQrvh"
      },
      "execution_count": null,
      "outputs": []
    },
    {
      "cell_type": "markdown",
      "source": [
        "Quantos passegeiros sobreviveram que eram da classa 1 ou 2?"
      ],
      "metadata": {
        "id": "zjO_3eQBSkL6"
      }
    },
    {
      "cell_type": "code",
      "source": [
        "# Filtrar passageiros da Classe 1 ou 2\n",
        "passageiros_classe_1_ou_2 = titanic[titanic['Classe do ticket'].isin([1, 2])]\n",
        "\n",
        "# Filtrar os passageiros da Classe 1 ou 2 que sobreviveram ('Sobrevivente' == 1)\n",
        "sobreviventes_classe_1_ou_2 = passageiros_classe_1_ou_2[passageiros_classe_1_ou_2['Sobrevivente'] == 1]\n",
        "\n",
        "# Contar quantos passageiros atendem a esse critério\n",
        "quantidade_sobreviventes = len(sobreviventes_classe_1_ou_2)\n",
        "\n",
        "print(f\"Quantidade de passageiros da Classe 1 ou 2 que sobreviveram: {quantidade_sobreviventes}\")"
      ],
      "metadata": {
        "id": "CnRoWxZ-SoYU"
      },
      "execution_count": null,
      "outputs": []
    },
    {
      "cell_type": "markdown",
      "source": [
        "#Dados faltantes e duplicados - Descoberta guiada"
      ],
      "metadata": {
        "id": "HLLsUDYsYFO6"
      }
    },
    {
      "cell_type": "markdown",
      "source": [
        "Realize uma consulta utilizando o comando isnull no dataframe"
      ],
      "metadata": {
        "id": "ugfyJFjcYnMO"
      }
    },
    {
      "cell_type": "code",
      "source": [
        "print(df.isnull().sum())"
      ],
      "metadata": {
        "id": "-GsiEs2rYrJj"
      },
      "execution_count": null,
      "outputs": []
    },
    {
      "cell_type": "markdown",
      "source": [
        "Quantos passageiros tem idade nula nos registros?"
      ],
      "metadata": {
        "id": "w3mTJ7cbYdXw"
      }
    },
    {
      "cell_type": "code",
      "source": [
        "# Contar quantos passageiros têm a idade nula (NaN)\n",
        "passageiros_idade_nula = titanic['Idade'].isnull().sum()\n",
        "\n",
        "print(f\"Quantos passageiros têm idade nula nos registros: {passageiros_idade_nula}\")"
      ],
      "metadata": {
        "id": "3LKJaj3HYhzk"
      },
      "execution_count": null,
      "outputs": []
    },
    {
      "cell_type": "markdown",
      "source": [
        "Preencha os campos vazios de idade com 0"
      ],
      "metadata": {
        "id": "iFw01SjFYW6j"
      }
    },
    {
      "cell_type": "code",
      "source": [
        "# Preencher os valores nulos na coluna 'Idade' com 0\n",
        "titanic['Idade'] = titanic['Idade'].fillna(0)\n",
        "\n",
        "# Verificar se ainda existem valores nulos na coluna 'Idade'\n",
        "print(\"Valores nulos na coluna 'Idade' após o preenchimento:\")\n",
        "print(titanic['Idade'].isnull().sum())\n",
        "\n",
        "# Opcional: Mostra as primeiras linhas para verificar a mudança\n",
        "# print(\"\\nPrimeiras linhas do DataFrame após preencher idade com 0:\")\n",
        "# print(titanic.head())\n"
      ],
      "metadata": {
        "id": "gRV5vowrZHR6"
      },
      "execution_count": null,
      "outputs": []
    },
    {
      "cell_type": "markdown",
      "source": [
        "#Dados faltantes e duplicados - Hands on\n",
        "\n"
      ],
      "metadata": {
        "id": "K6iDLaq4Y1AK"
      }
    },
    {
      "cell_type": "markdown",
      "source": [
        "* Apague os registros de passageiros sem local de embarque definido"
      ],
      "metadata": {
        "id": "6X7pHN_OjPNb"
      }
    },
    {
      "cell_type": "code",
      "source": [
        "# Remover linhas onde 'Local de embarque' é nulo\n",
        "titanic_sem_local_nulo = titanic.dropna(subset=['Local de embarque'])\n",
        "\n",
        "# Verificar a quantidade de valores nulos na coluna após a remoção\n",
        "print(\"Valores nulos na coluna 'Local de embarque' após a remoção:\")\n",
        "print(titanic_sem_local_nulo['Local de embarque'].isnull().sum())\n",
        "\n",
        "# Opcional: Mostra a diferença no número de linhas\n",
        "print(f\"\\nNúmero de linhas antes: {len(titanic)}\")\n",
        "print(f\"Número de linhas depois: {len(titanic_sem_local_nulo)}\")\n",
        "\n",
        "# Atualizar o dataframe 'titanic' se quiser que a mudança seja permanente para os próximos passos\n",
        "titanic = titanic_sem_local_nulo.copy()"
      ],
      "metadata": {
        "id": "ZA1wggbXjPm3"
      },
      "execution_count": null,
      "outputs": []
    },
    {
      "cell_type": "markdown",
      "source": [
        "* Apague a terceira linha do dataframe do titanic"
      ],
      "metadata": {
        "id": "bWLG9FSxjQhF"
      }
    },
    {
      "cell_type": "code",
      "source": [
        "# Apagar a terceira linha (índice 2, pois o índice começa em 0)\n",
        "# Usamos drop() com o índice que queremos apagar.\n",
        "# axis=0 indica que queremos apagar uma linha.\n",
        "# inplace=True modifica o DataFrame original diretamente.\n",
        "# Se não usar inplace=True, precisará reatribuir: titanic = titanic.drop(2, axis=0)\n",
        "\n",
        "titanic = titanic.drop(2, axis=0).reset_index(drop=True)\n",
        "\n",
        "# Imprimir as primeiras linhas para verificar se a linha 2 foi removida\n",
        "print(titanic.head())"
      ],
      "metadata": {
        "id": "uwpNbq89jVH1"
      },
      "execution_count": null,
      "outputs": []
    },
    {
      "cell_type": "markdown",
      "source": [
        "Apague a coluna Idade do dataframe do titanic"
      ],
      "metadata": {
        "id": "ChtrCsGOjUFh"
      }
    },
    {
      "cell_type": "code",
      "source": [
        "# Apagar a coluna 'Idade'\n",
        "titanic = titanic.drop('Idade', axis=1)\n",
        "\n",
        "# Verificar as colunas restantes para confirmar que 'Idade' foi removida\n",
        "print(titanic.columns.tolist())\n",
        "\n",
        "# Opcional: Mostrar as primeiras linhas do DataFrame sem a coluna Idade\n",
        "print(titanic.head())"
      ],
      "metadata": {
        "id": "BZk4S2xtjaBY"
      },
      "execution_count": null,
      "outputs": []
    },
    {
      "cell_type": "markdown",
      "source": [
        "#Bootcamp"
      ],
      "metadata": {
        "id": "ogbSShx9g52e"
      }
    },
    {
      "cell_type": "markdown",
      "source": [
        "Qual é o jogador mais ágil considerando apenas jogadores com mais de 30 anos"
      ],
      "metadata": {
        "id": "z4sI9YZag8EM"
      }
    },
    {
      "cell_type": "code",
      "source": [
        "# Carregar os dados do arquivo CSV\n",
        "url_fifa = \"https://www.harve.com.br/praticas/fifaplayers_pt.csv\"\n",
        "df_fifa = pd.read_csv(url_fifa)\n",
        "\n",
        "# Filtrar jogadores com mais de 30 anos\n",
        "jogadores_mais_de_30 = df_fifa[df_fifa['Idade'] > 30].copy() # Use .copy() para evitar SettingWithCopyWarning\n",
        "\n",
        "# Encontrar o jogador com a maior agilidade entre os filtrados\n",
        "# Usamos idxmax() para obter o índice da linha com o valor máximo na coluna 'Agilidade'\n",
        "idx_mais_agil = jogadores_mais_de_30['Agilidade'].idxmax()\n",
        "\n",
        "# Selecionar a linha do jogador mais ágil\n",
        "jogador_mais_agil = jogadores_mais_de_30.loc[idx_mais_agil]\n",
        "\n",
        "# Imprimir as informações do jogador mais ágil\n",
        "print(\"O jogador mais ágil com mais de 30 anos é:\")\n",
        "print(jogador_mais_agil[['Nome', 'Idade', 'Agilidade']])\n",
        "\n",
        "# Opcional: Exibir todas as colunas para esse jogador\n",
        "# print(\"\\nDetalhes completos do jogador mais ágil:\")\n",
        "# display(jogador_mais_agil)\n"
      ],
      "metadata": {
        "id": "wO17DV0XhLzk"
      },
      "execution_count": null,
      "outputs": []
    },
    {
      "cell_type": "markdown",
      "source": [
        "#Resumo estatístico - Descoberta guiada"
      ],
      "metadata": {
        "id": "PL0fgMNzcl3l"
      }
    },
    {
      "cell_type": "markdown",
      "source": [
        "Carregue novamente o dataframe original do titanic e retorne a média de idade dos passageiros"
      ],
      "metadata": {
        "id": "UH2_HD76kb-F"
      }
    },
    {
      "cell_type": "code",
      "source": [
        "# Carregar novamente o dataframe original do titanic\n",
        "url = \"https://www.harve.com.br/praticas/titanic-pt-BR.csv\"\n",
        "titanic_original = pd.read_csv(url, encoding='utf-8')\n",
        "\n",
        "# Calcular a média de idade dos passageiros\n",
        "media_idade_titanic = titanic_original['Idade'].mean()\n",
        "\n",
        "print(f\"A média de idade dos passageiros do dataframe original do Titanic é: {media_idade_titanic:.2f} anos\")\n"
      ],
      "metadata": {
        "id": "4qpHfzeokcc5"
      },
      "execution_count": null,
      "outputs": []
    },
    {
      "cell_type": "markdown",
      "source": [
        "#Resumo estatístico - Hands on"
      ],
      "metadata": {
        "id": "w62Exv_BdLBs"
      }
    },
    {
      "cell_type": "markdown",
      "source": [
        "Qual foi o passageiro mais velho do titanic?"
      ],
      "metadata": {
        "id": "4jUpFOLxdPJA"
      }
    },
    {
      "cell_type": "code",
      "source": [
        "# O passageiro mais velho já foi encontrado no passo anterior de \"Inspeção de conteúdo - Descoberta guiada\".\n",
        "# Basta reutilizar o código ou a variável 'oldest_passengers'.\n",
        "\n",
        "# Certifique-se de que o DataFrame 'titanic' original foi carregado, por exemplo:\n",
        "url = \"https://www.harve.com.br/praticas/titanic-pt-BR.csv\"\n",
        "titanic = pd.read_csv(url, encoding='utf-8')\n",
        "\n",
        "# Encontrar a idade máxima na coluna 'Idade'\n",
        "oldest_age = titanic['Idade'].max()\n",
        "\n",
        "# Filtrar o(s) passageiro(s) com a idade máxima\n",
        "oldest_passengers = titanic[titanic['Idade'] == oldest_age]\n",
        "\n",
        "print(\"Informações sobre o(s) passageiro(s) mais velho(s) no Titanic:\")\n",
        "display(oldest_passengers)"
      ],
      "metadata": {
        "id": "SATKPam8dPd9"
      },
      "execution_count": null,
      "outputs": []
    },
    {
      "cell_type": "markdown",
      "source": [
        "Qual foi a média de notas da prova 1 da turma A?\n"
      ],
      "metadata": {
        "id": "r4Hsoby3bVan"
      }
    },
    {
      "cell_type": "code",
      "source": [
        "# Filtrar apenas os alunos da turma A\n",
        "turma_a_df = df[df['turma'] == 'A']\n",
        "\n",
        "# Calcular a média da coluna 'prova_1' para os alunos filtrados\n",
        "media_prova1_turma_a = turma_a_df['prova_1'].mean()\n",
        "\n",
        "print(f\"A média de notas da prova 1 da turma A foi: {media_prova1_turma_a:.2f}\")"
      ],
      "metadata": {
        "id": "L7P0SQIGbkFF"
      },
      "execution_count": null,
      "outputs": []
    },
    {
      "cell_type": "markdown",
      "source": [
        "#Agrupamento - Descoberta guiada"
      ],
      "metadata": {
        "id": "4ZBkTJpjiyQS"
      }
    },
    {
      "cell_type": "markdown",
      "source": [
        "Agrupe os dados do Titanic por classe e retorne os valores máximos de cada coluna\n"
      ],
      "metadata": {
        "id": "EZpLSg3Ci0k0"
      }
    },
    {
      "cell_type": "code",
      "source": [
        "# Agrupar por 'Classe do ticket' e encontrar o valor máximo para cada coluna em cada grupo\n",
        "# O .max() em um DataFrame agrupado tenta encontrar o máximo em todas as colunas aplicáveis\n",
        "max_por_classe = titanic.groupby('Classe do ticket').max()\n",
        "\n",
        "print(\"Valores máximos por Classe do ticket:\")\n",
        "display(max_por_classe)\n",
        "\n",
        "# Se você quiser ver o valor máximo de colunas numéricas/object separadamente, pode especificar:\n",
        "# max_numerico_por_classe = titanic.groupby('Classe do ticket').max(numeric_only=True)\n",
        "# max_object_por_classe = titanic.groupby('Classe do ticket').max(numeric_only=False)\n",
        "\n",
        "# print(\"\\nValores máximos (Numéricos) por Classe do ticket:\")\n",
        "# display(max_numerico_por_classe)\n",
        "# print(\"\\nValores máximos (Objetos/Texto) por Classe do ticket:\")\n",
        "# display(max_object_por_classe)"
      ],
      "metadata": {
        "id": "IGRZ0DJVi07M"
      },
      "execution_count": null,
      "outputs": []
    },
    {
      "cell_type": "markdown",
      "source": [
        "#Agrupamento - Hands on"
      ],
      "metadata": {
        "id": "FvY6aa29jBwB"
      }
    },
    {
      "cell_type": "markdown",
      "source": [
        "Padronize os locais de embarque (C = Cherbourg, Q = Queenstown, S = Southampton) e descubra qual classe tem a maior média de idade?"
      ],
      "metadata": {
        "id": "6A9XGOahjoZ8"
      }
    },
    {
      "cell_type": "code",
      "source": [
        "# Padronizar os locais de embarque\n",
        "# Criar um dicionário de mapeamento\n",
        "mapeamento_embarque = {\n",
        "    'C': 'Cherbourg',\n",
        "    'Q': 'Queenstown',\n",
        "    'S': 'Southampton'\n",
        "}\n",
        "\n",
        "# Aplicar o mapeamento à coluna 'Local de embarque'\n",
        "# Usamos .map() para substituir os valores. ignore_errors=True mantém valores que não estão no dicionário.\n",
        "titanic['Local de embarque'] = titanic['Local de embarque'].map(mapeamento_embarque)\n",
        "\n",
        "# Verificar a padronização (opcional)\n",
        "print(\"Contagem de passageiros por Local de embarque padronizado:\")\n",
        "print(titanic['Local de embarque'].value_counts())\n",
        "\n",
        "# Descobrir a média de idade por classe\n",
        "# Certificar-se de que a coluna 'Idade' está no DataFrame (ela foi apagada em um passo anterior,\n",
        "# então vamos recarregar o DataFrame original ou garantir que a coluna exista)\n",
        "# Vamos assumir que o DataFrame 'titanic' que estamos usando agora possui a coluna 'Idade'.\n",
        "# Se você apagou 'Idade' anteriormente e quer fazer isso com os dados originais, recarregue:\n",
        "# url = \"https://www.harve.com.br/praticas/titanic-pt-BR.csv\"\n",
        "# titanic = pd.read_csv(url, encoding='utf-8') # Pode precisar rodar a padronização novamente\n",
        "\n",
        "# Calcular a média de idade para cada classe\n",
        "# Agrupar por 'Classe do ticket' e calcular a média da coluna 'Idade'\n",
        "media_idade_por_classe = titanic.groupby('Classe do ticket')['Idade'].mean()\n",
        "\n",
        "print(\"\\nMédia de idade por Classe do ticket:\")\n",
        "print(media_idade_por_classe)\n",
        "\n",
        "# Encontrar a classe com a maior média de idade\n",
        "# Usamos idxmax() para obter o índice (Classe do ticket) com o valor máximo (média de idade)\n",
        "classe_maior_media_idade = media_idade_por_classe.idxmax()\n",
        "\n",
        "print(f\"\\nA classe com a maior média de idade é: Classe {classe_maior_media_idade}\")"
      ],
      "metadata": {
        "id": "h53c1wR6jDwu"
      },
      "execution_count": null,
      "outputs": []
    },
    {
      "cell_type": "markdown",
      "source": [
        "Qual é a soma das idades de cada classe?"
      ],
      "metadata": {
        "id": "Twlnr4ZLk-IH"
      }
    },
    {
      "cell_type": "code",
      "source": [
        "# Calcular a soma das idades para cada classe\n",
        "# Agrupar por 'Classe do ticket' e calcular a soma da coluna 'Idade'\n",
        "soma_idade_por_classe = titanic.groupby('Classe do ticket')['Idade'].sum()\n",
        "\n",
        "print(\"Soma das idades por Classe do ticket:\")\n",
        "soma_idade_por_classe"
      ],
      "metadata": {
        "id": "wrGnA6sblBwz"
      },
      "execution_count": null,
      "outputs": []
    },
    {
      "cell_type": "markdown",
      "source": [
        "#Bootcamp"
      ],
      "metadata": {
        "id": "o47UqI1rfj-B"
      }
    },
    {
      "cell_type": "markdown",
      "source": [
        "Carregue a base de dados da fifa e diga qual é a média de idade dos jogadores?"
      ],
      "metadata": {
        "id": "Z6zTxATjflly"
      }
    },
    {
      "cell_type": "code",
      "source": [
        "# Carregar a base de dados da FIFA\n",
        "url_fifa = \"https://www.harve.com.br/praticas/fifaplayers_pt.csv\"\n",
        "df_fifa = pd.read_csv(url_fifa)\n",
        "\n",
        "# Calcular a média de idade dos jogadores\n",
        "media_idade_fifa = df_fifa['Idade'].mean()\n",
        "\n",
        "print(f\"A média de idade dos jogadores na base de dados da FIFA é: {media_idade_fifa:.2f} anos\")"
      ],
      "metadata": {
        "id": "d8RdICqOfqav"
      },
      "execution_count": null,
      "outputs": []
    },
    {
      "cell_type": "markdown",
      "source": [
        "Apague os registros de passageiros sem local de embarque definido"
      ],
      "metadata": {
        "id": "OC4KyA7qZQCv"
      }
    },
    {
      "cell_type": "code",
      "source": [
        "# Remover linhas onde 'Local de embarque' é nulo\n",
        "titanic_sem_local_nulo = titanic.dropna(subset=['Local de embarque'])\n",
        "\n",
        "# Verificar a quantidade de valores nulos na coluna após a remoção\n",
        "print(\"Valores nulos na coluna 'Local de embarque' após a remoção:\")\n",
        "print(titanic_sem_local_nulo['Local de embarque'].isnull().sum())\n",
        "\n",
        "# Opcional: Mostra a diferença no número de linhas\n",
        "print(f\"\\nNúmero de linhas antes: {len(titanic)}\")\n",
        "print(f\"Número de linhas depois: {len(titanic_sem_local_nulo)}\")\n",
        "\n",
        "# Atualizar o dataframe 'titanic' se quiser que a mudança seja permanente para os próximos passos\n",
        "titanic = titanic_sem_local_nulo.copy()"
      ],
      "metadata": {
        "id": "B9zIo6xtZJUX"
      },
      "execution_count": null,
      "outputs": []
    },
    {
      "cell_type": "markdown",
      "source": [
        "Apague a terceira linha do dataframe do titanic"
      ],
      "metadata": {
        "id": "qxuu8__lbVbf"
      }
    },
    {
      "cell_type": "code",
      "source": [
        "# Apagar a terceira linha (índice 2, pois o índice começa em 0)\n",
        "# Usamos drop() com o índice que queremos apagar.\n",
        "# axis=0 indica que queremos apagar uma linha.\n",
        "# inplace=True modifica o DataFrame original diretamente.\n",
        "# Se não usar inplace=True, precisará reatribuir: titanic = titanic.drop(2, axis=0)\n",
        "\n",
        "titanic = titanic.drop(2, axis=0).reset_index(drop=True)\n",
        "\n",
        "# Imprimir as primeiras linhas para verificar se a linha 2 foi removida\n",
        "print(titanic.head())\n"
      ],
      "metadata": {
        "id": "tNNTyjccaBpB"
      },
      "execution_count": null,
      "outputs": []
    },
    {
      "cell_type": "markdown",
      "source": [
        "Apague a coluna Idade do dataframe do titanic"
      ],
      "metadata": {
        "id": "z-53pISyboP0"
      }
    },
    {
      "cell_type": "code",
      "source": [
        "# Apagar a coluna 'Idade'\n",
        "titanic = titanic.drop('Idade', axis=1)\n",
        "\n",
        "# Verificar as colunas restantes para confirmar que 'Idade' foi removida\n",
        "print(titanic.columns.tolist())\n",
        "\n",
        "# Opcional: Mostrar as primeiras linhas do DataFrame sem a coluna Idade\n",
        "print(titanic.head())"
      ],
      "metadata": {
        "id": "YfMHwr10a2WK"
      },
      "execution_count": null,
      "outputs": []
    },
    {
      "cell_type": "markdown",
      "source": [
        "Carregue novamente o dataframe original do titanic e retorne a média de idade dos passageiros"
      ],
      "metadata": {
        "id": "ia0AmRW9crbl"
      }
    },
    {
      "cell_type": "code",
      "source": [
        "# Carregar novamente o dataframe original do titanic\n",
        "url = \"https://www.harve.com.br/praticas/titanic-pt-BR.csv\"\n",
        "titanic_original = pd.read_csv(url, encoding='utf-8')\n",
        "\n",
        "# Calcular a média de idade dos passageiros\n",
        "media_idade_titanic = titanic_original['Idade'].mean()\n",
        "\n",
        "print(f\"A média de idade dos passageiros do dataframe original do Titanic é: {media_idade_titanic:.2f} anos\")\n"
      ],
      "metadata": {
        "id": "Kg7yf4UpcpLm"
      },
      "execution_count": null,
      "outputs": []
    },
    {
      "cell_type": "markdown",
      "source": [
        "#Visualização de dados - Descoberta guiada"
      ],
      "metadata": {
        "id": "sjxxblmmnDyV"
      }
    },
    {
      "cell_type": "markdown",
      "source": [
        "Gere um gráfico de barras por sexo dos passageiros"
      ],
      "metadata": {
        "id": "5luTi58nnH5K"
      }
    },
    {
      "cell_type": "code",
      "source": [
        "import matplotlib.pyplot as plt\n",
        "\n",
        "# Agrupar por sexo e contar a quantidade de passageiros em cada grupo\n",
        "sex_counts = titanic['Sexo'].value_counts()\n",
        "\n",
        "# Gerar o gráfico de barras\n",
        "plt.figure(figsize=(8, 6))\n",
        "sex_counts.plot(kind='bar', color=['skyblue', 'lightcoral'])\n",
        "plt.title('Contagem de Passageiros por Sexo')\n",
        "plt.xlabel('Sexo')\n",
        "plt.ylabel('Número de Passageiros')\n",
        "plt.xticks(rotation=0) # Rotaciona os rótulos do eixo x para melhor visualização\n",
        "plt.grid(axis='y', linestyle='--', alpha=0.7)\n",
        "plt.show()\n"
      ],
      "metadata": {
        "id": "Zptz3nJSnRHv"
      },
      "execution_count": null,
      "outputs": []
    },
    {
      "cell_type": "markdown",
      "source": [
        "#Visualização de dados - Hands on"
      ],
      "metadata": {
        "id": "GLtnjF6Ho5sP"
      }
    },
    {
      "cell_type": "markdown",
      "source": [
        "Gere um gráfico representando a média das classes"
      ],
      "metadata": {
        "id": "oDlCGrhznnEN"
      }
    },
    {
      "cell_type": "code",
      "source": [
        "# Calcular a média da coluna 'média das notas' para cada turma\n",
        "media_por_turma = df.groupby('turma')['média das notas'].mean()\n",
        "\n",
        "# Gerar o gráfico de barras\n",
        "plt.figure(figsize=(8, 6))\n",
        "media_por_turma.plot(kind='bar', color=['lightgreen', 'salmon'])\n",
        "plt.title('Média das Notas por Turma')\n",
        "plt.xlabel('Turma')\n",
        "plt.ylabel('Média das Notas')\n",
        "plt.xticks(rotation=0)\n",
        "plt.grid(axis='y', linestyle='--', alpha=0.7)\n",
        "plt.show()"
      ],
      "metadata": {
        "id": "4rbW5L1KnxvH"
      },
      "execution_count": null,
      "outputs": []
    },
    {
      "cell_type": "markdown",
      "source": [
        "Gere um gráfico de barras com média de notas da prova 1 por turma"
      ],
      "metadata": {
        "id": "hJ_ePqTTn8VI"
      }
    },
    {
      "cell_type": "code",
      "source": [
        "# Calcular a média da coluna 'prova_1' para cada turma\n",
        "media_prova1_por_turma = df.groupby('turma')['prova_1'].mean()\n",
        "\n",
        "# Gerar o gráfico de barras\n",
        "plt.figure(figsize=(8, 6))\n",
        "media_prova1_por_turma.plot(kind='bar', color=['lightskyblue', 'orchid'])\n",
        "plt.title('Média das Notas da Prova 1 por Turma')\n",
        "plt.xlabel('Turma')\n",
        "plt.ylabel('Média da Prova 1')\n",
        "plt.xticks(rotation=0)\n",
        "plt.grid(axis='y', linestyle='--', alpha=0.7)\n",
        "plt.show()"
      ],
      "metadata": {
        "id": "eOA-ZmmSoDxf",
        "colab": {
          "base_uri": "https://localhost:8080/",
          "height": 222
        },
        "collapsed": true,
        "outputId": "a3a3471d-d84f-43da-d0fe-b9a372eca53c"
      },
      "execution_count": 4,
      "outputs": [
        {
          "output_type": "error",
          "ename": "NameError",
          "evalue": "name 'df' is not defined",
          "traceback": [
            "\u001b[0;31m---------------------------------------------------------------------------\u001b[0m",
            "\u001b[0;31mNameError\u001b[0m                                 Traceback (most recent call last)",
            "\u001b[0;32m/tmp/ipython-input-4-1241453392.py\u001b[0m in \u001b[0;36m<cell line: 0>\u001b[0;34m()\u001b[0m\n\u001b[1;32m      1\u001b[0m \u001b[0;31m# Calcular a média da coluna 'prova_1' para cada turma\u001b[0m\u001b[0;34m\u001b[0m\u001b[0;34m\u001b[0m\u001b[0m\n\u001b[0;32m----> 2\u001b[0;31m \u001b[0mmedia_prova1_por_turma\u001b[0m \u001b[0;34m=\u001b[0m \u001b[0mdf\u001b[0m\u001b[0;34m.\u001b[0m\u001b[0mgroupby\u001b[0m\u001b[0;34m(\u001b[0m\u001b[0;34m'turma'\u001b[0m\u001b[0;34m)\u001b[0m\u001b[0;34m[\u001b[0m\u001b[0;34m'prova_1'\u001b[0m\u001b[0;34m]\u001b[0m\u001b[0;34m.\u001b[0m\u001b[0mmean\u001b[0m\u001b[0;34m(\u001b[0m\u001b[0;34m)\u001b[0m\u001b[0;34m\u001b[0m\u001b[0;34m\u001b[0m\u001b[0m\n\u001b[0m\u001b[1;32m      3\u001b[0m \u001b[0;34m\u001b[0m\u001b[0m\n\u001b[1;32m      4\u001b[0m \u001b[0;31m# Gerar o gráfico de barras\u001b[0m\u001b[0;34m\u001b[0m\u001b[0;34m\u001b[0m\u001b[0m\n\u001b[1;32m      5\u001b[0m \u001b[0mplt\u001b[0m\u001b[0;34m.\u001b[0m\u001b[0mfigure\u001b[0m\u001b[0;34m(\u001b[0m\u001b[0mfigsize\u001b[0m\u001b[0;34m=\u001b[0m\u001b[0;34m(\u001b[0m\u001b[0;36m8\u001b[0m\u001b[0;34m,\u001b[0m \u001b[0;36m6\u001b[0m\u001b[0;34m)\u001b[0m\u001b[0;34m)\u001b[0m\u001b[0;34m\u001b[0m\u001b[0;34m\u001b[0m\u001b[0m\n",
            "\u001b[0;31mNameError\u001b[0m: name 'df' is not defined"
          ]
        }
      ]
    },
    {
      "cell_type": "markdown",
      "source": [
        "Gere um gráfico de pizza com média de notas da prova 1 por turma"
      ],
      "metadata": {
        "id": "gv3GMibCoKVe"
      }
    },
    {
      "cell_type": "code",
      "source": [
        "# Calcular a média da coluna 'prova_1' para cada turma\n",
        "media_prova1_por_turma = df.groupby('turma')['prova_1'].mean()\n",
        "\n",
        "# Gerar o gráfico de pizza\n",
        "plt.figure(figsize=(8, 8))\n",
        "media_prova1_por_turma.plot(kind='pie', autopct='%1.1f%%', startangle=90, colors=['lightblue', 'lightcoral'])\n",
        "plt.title('Média das Notas da Prova 1 por Turma')\n",
        "plt.ylabel('') # Remove o rótulo padrão 'média das notas' do eixo y\n",
        "plt.show()"
      ],
      "metadata": {
        "id": "erUgUgLEoQ4V"
      },
      "execution_count": null,
      "outputs": []
    },
    {
      "cell_type": "markdown",
      "source": [
        "#Contectando dados - Descoberta guiada"
      ],
      "metadata": {
        "id": "vRzc_shJNQSP"
      }
    },
    {
      "cell_type": "markdown",
      "source": [
        "Junte os dez passageiros mais jovens masculinos e os dez passageiros mais jovens femininos e use o concat para juntar e criar um único datafame."
      ],
      "metadata": {
        "id": "QhHcVdqMNTm_"
      }
    },
    {
      "cell_type": "code",
      "source": [
        "# Carregar o dataframe original do titanic, garantindo a coluna 'Idade'\n",
        "url = \"https://www.harve.com.br/praticas/titanic-pt-BR.csv\"\n",
        "titanic = pd.read_csv(url, encoding='utf-8')\n",
        "\n",
        "# Separar passageiros masculinos e femininos\n",
        "titanic_masculino = titanic[titanic['Sexo'] == 'masculino'].copy()\n",
        "titanic_feminino = titanic[titanic['Sexo'] == 'feminino'].copy()\n",
        "\n",
        "# Remover linhas com idade nula antes de ordenar, pois isnull() foi usado anteriormente\n",
        "titanic_masculino.dropna(subset=['Idade'], inplace=True)\n",
        "titanic_feminino.dropna(subset=['Idade'], inplace=True)\n",
        "\n",
        "# Ordenar por idade (ascendente) e selecionar os 10 mais jovens\n",
        "dez_mais_jovens_masculino = titanic_masculino.sort_values(by='Idade').head(10)\n",
        "dez_mais_jovens_feminino = titanic_feminino.sort_values(by='Idade').head(10)\n",
        "\n",
        "# Usar concat para juntar os dois dataframes\n",
        "df_passageiros_jovens = pd.concat([dez_mais_jovens_masculino, dez_mais_jovens_feminino], ignore_index=True)\n",
        "\n",
        "# Imprimir o dataframe resultante\n",
        "print(\"DataFrame com os 10 passageiros mais jovens masculinos e 10 femininos:\")\n",
        "display(df_passageiros_jovens)"
      ],
      "metadata": {
        "id": "wC7HdqaoNUB9"
      },
      "execution_count": null,
      "outputs": []
    },
    {
      "cell_type": "markdown",
      "source": [
        "#Contectando dados - Hands on"
      ],
      "metadata": {
        "id": "aqo6pCnNPYgy"
      }
    },
    {
      "cell_type": "markdown",
      "source": [
        "As turmas tem turnos específicos seguindo a seguinte estrutura:\n",
        "\n",
        "Turma\n",
        "\n",
        "A - Manhã\n",
        "\n",
        "B - Tarde\n",
        "\n",
        "C - Tarde\n",
        "\n",
        "D - Noite\n",
        "\n",
        "Crie um dataframe e faça a junção com a lista dos alunos usando o merge."
      ],
      "metadata": {
        "id": "s7KopYo5Pgh5"
      }
    },
    {
      "cell_type": "code",
      "source": [
        "# Turma\n",
        "# A - Manhã\n",
        "# B - Tarde\n",
        "# C - Tarde\n",
        "# D - Noite\n",
        "# Crie um dataframe e faça a junção com a lista dos alunos usando o merge.\n",
        "\n",
        "# DataFrame original de alunos (do código anterior)\n",
        "data_alunos = {\n",
        "    \"prova_1\": [6, 7, 8, 8, 9, 3, 6],\n",
        "    \"prova_2\": [7, 8, 5, 7, 10, 8, 7],\n",
        "    \"nome\": [\"Ana\", \"Pedro\", \"João\", \"Carla\", \"Silvio\", \"Teresa\", \"Claudia\"],\n",
        "    \"turma\": [\"A\", \"A\", \"B\", \"B\", \"A\", \"B\", \"B\"]\n",
        "}\n",
        "df_alunos = pd.DataFrame(data_alunos)\n",
        "\n",
        "# Dados dos turnos das turmas\n",
        "data_turnos = {\n",
        "    \"Turma\": [\"A\", \"B\", \"C\", \"D\"],\n",
        "    \"Turno\": [\"Manhã\", \"Tarde\", \"Tarde\", \"Noite\"]\n",
        "}\n",
        "df_turnos = pd.DataFrame(data_turnos)\n",
        "\n",
        "# Renomear a coluna 'Turma' em df_turnos para que corresponda à coluna 'turma' em df_alunos para o merge\n",
        "df_turnos = df_turnos.rename(columns={\"Turma\": \"turma\"})\n",
        "\n",
        "# Realizar o merge (junção) dos dois dataframes\n",
        "# Usamos left merge para manter todos os alunos e adicionar o turno correspondente\n",
        "# on='turma' especifica a coluna comum para a junção\n",
        "df_alunos_com_turno = pd.merge(df_alunos, df_turnos, on='turma', how='left')\n",
        "\n",
        "# Imprimir o dataframe resultante\n",
        "print(\"DataFrame de alunos com informação de turno:\")\n",
        "df_alunos_com_turno"
      ],
      "metadata": {
        "id": "cgIn2wXvPg0g"
      },
      "execution_count": null,
      "outputs": []
    },
    {
      "cell_type": "markdown",
      "source": [
        "As notas da turma A na prova 2 estão erradas. Será preciso diminuir um de cada aluno e juntar novamente os dataframes."
      ],
      "metadata": {
        "id": "gJpsIY1QRZpR"
      }
    },
    {
      "cell_type": "code",
      "source": [
        "# Separar o dataframe original em turma A e turma B\n",
        "df_turma_a = df[df['turma'] == 'A'].copy()\n",
        "df_turma_b = df[df['turma'] == 'B'].copy()\n",
        "\n",
        "# Diminuir 1 da nota da prova 2 para os alunos da turma A\n",
        "df_turma_a['prova_2'] = df_turma_a['prova_2'] - 1\n",
        "\n",
        "# Juntar os dataframes corrigidos usando concat\n",
        "# ignore_index=True reseta os índices para um novo índice numérico contínuo\n",
        "df_corrigido = pd.concat([df_turma_a, df_turma_b], ignore_index=True)\n",
        "\n",
        "# Opcional: Ordenar por nome ou índice original se necessário\n",
        "# df_corrigido = df_corrigido.sort_values(by='nome').reset_index(drop=True) # Exemplo ordenando por nome\n",
        "\n",
        "print(\"DataFrame corrigido com as notas da prova 2 da turma A diminuídas em 1:\")\n",
        "df_corrigido"
      ],
      "metadata": {
        "id": "5JvcmOmbTfPM"
      },
      "execution_count": 4,
      "outputs": []
    },
    {
      "cell_type": "markdown",
      "source": [
        "#Salvando dados - Descoberta guiada"
      ],
      "metadata": {
        "id": "hy-vHT_VeAnB"
      }
    },
    {
      "cell_type": "markdown",
      "source": [
        "Salve os dados do titanic no arquivo meu_arquivo.csv"
      ],
      "metadata": {
        "id": "2TgyZSi7W7Uw"
      }
    },
    {
      "cell_type": "code",
      "source": [
        "# Salvar o DataFrame do Titanic em um arquivo CSV\n",
        "# Certifique-se de que o DataFrame 'titanic' que você quer salvar está pronto.\n",
        "# Se você seguiu os passos anteriores, 'titanic' foi modificado (colunas removidas, linhas apagadas).\n",
        "# Para salvar o dataframe original, use 'titanic_original' (carregado no passo de Resumo Estatístico - Descoberta Guiada).\n",
        "\n",
        "# Vamos assumir que você quer salvar o dataframe 'titanic' que foi manipulado.\n",
        "# Se quiser o original, mude a linha abaixo para `titanic_original.to_csv(...)`\n",
        "\n",
        "# O parâmetro index=False impede que o índice do DataFrame seja escrito como uma coluna no CSV.\n",
        "titanic.to_csv('meu_arquivo.csv', index=False, encoding='utf-8') # Ou encoding='latin-1' se necessário\n",
        "\n",
        "print(\"DataFrame do Titanic salvo com sucesso em 'meu_arquivo.csv'\")\n",
        "\n",
        "# Opcional: Verificar o conteúdo do arquivo salvo\n",
        "!head meu_arquivo.csv\n"
      ],
      "metadata": {
        "id": "8H_oJ2wUeEb-"
      },
      "execution_count": null,
      "outputs": []
    },
    {
      "cell_type": "markdown",
      "source": [
        "#Salvando dados - Hands on"
      ],
      "metadata": {
        "id": "WYkl4RQ8XEnO"
      }
    },
    {
      "cell_type": "markdown",
      "source": [
        "Salve o arquivo com os dados das provas no arquivo provas.csv"
      ],
      "metadata": {
        "id": "5bssmhjpXIwf"
      }
    },
    {
      "cell_type": "code",
      "source": [
        "# Salvar o DataFrame das provas em um arquivo CSV\n",
        "# Certifique-se de que o DataFrame 'df' que você quer salvar está pronto.\n",
        "# O parâmetro index=False impede que o índice do DataFrame seja escrito como uma coluna no CSV.\n",
        "df.to_csv('provas.csv', index=False, encoding='utf-8')\n",
        "\n",
        "print(\"DataFrame das provas salvo com sucesso em 'provas.csv'\")\n",
        "\n",
        "# Opcional: Verificar o conteúdo do arquivo salvo\n",
        "!head provas.csv"
      ],
      "metadata": {
        "id": "6-u7Z3AbXXaF"
      },
      "execution_count": null,
      "outputs": []
    }
  ],
  "metadata": {
    "colab": {
      "provenance": []
    },
    "kernelspec": {
      "display_name": "Python 3",
      "name": "python3"
    },
    "language_info": {
      "name": "python"
    }
  },
  "nbformat": 4,
  "nbformat_minor": 0
}